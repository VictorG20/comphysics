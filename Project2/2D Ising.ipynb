{
 "cells": [
  {
   "cell_type": "code",
   "execution_count": 1,
   "id": "a2e4de32",
   "metadata": {},
   "outputs": [],
   "source": [
    "import Random\n",
    "using Plots\n",
    "using Statistics\n",
    "using Printf"
   ]
  },
  {
   "cell_type": "markdown",
   "id": "d7310a18",
   "metadata": {},
   "source": [
    "To do:\n",
    "   1. Separate obtaining the positive energy differences into a different function since this needs to be run\n",
    "      only once before the loop over beta values starts."
   ]
  },
  {
   "cell_type": "code",
   "execution_count": 2,
   "id": "f8b382ce",
   "metadata": {
    "scrolled": false
   },
   "outputs": [
    {
     "data": {
      "text/plain": [
       "ising2d (generic function with 1 method)"
      ]
     },
     "execution_count": 2,
     "metadata": {},
     "output_type": "execute_result"
    }
   ],
   "source": [
    "const seed = Random.seed!(42)  # Fixing the overall seed for reproducible results by running the entire script.\n",
    "\n",
    "const length::Int32 = 30  # Square root of total number of spins in the square lattice\n",
    "const spins::Int32 = length^2\n",
    "const configurations::Int32 = 10000  # Total number of configurations to be obtained\n",
    "const skip::Int32 = 100  # Configurations to be skipped\n",
    "const temperatures::Int32 = 100\n",
    "beta_values = Float64[i/temperatures for i in 0:temperatures]\n",
    "\n",
    "\n",
    "function get_positive_energies()\n",
    "    ΔE = sort(unique([2*mid*(left + right + above + below) for mid in [-1, 1], left in [-1, 1], right in [-1, 1], \n",
    "                    above in [-1, 1], below in [-1, 1]]))\n",
    "    positive_ΔE = Int8[ΔE for ΔE in ΔE if ΔE > 0]\n",
    "    return positive_ΔE\n",
    "end\n",
    "\n",
    "\n",
    "function get_acceptance_probabilities(beta::Float64, positive_ΔE::Array{Int8, 1})\n",
    "    return Float64[exp(-beta*ΔE) for ΔE in positive_ΔE]\n",
    "end\n",
    "\n",
    "function mc_step!(state::Array{Int8, 2}, positive_ΔE::Array{Int8, 1}, acceptance_probabilities::Array{Float64, 1})\n",
    "    rows = rand(seed, 1:length, skip*spins)\n",
    "    cols = rand(seed, 1:length, skip*spins)\n",
    "    for (row, col) in zip(rows, cols)\n",
    "        ΔE = 2 * state[row, col] * (state[mod1(row+1, length), col] + state[row, mod1(col+1, length)] + \n",
    "                                    state[mod1(row-1, length), col] + state[row, mod1(col-1, length)])\n",
    "        if ΔE > 0 && rand(seed) > acceptance_probabilities[findfirst(isequal(ΔE), positive_ΔE)]\n",
    "            continue\n",
    "        end\n",
    "        state[row, col] *= -1\n",
    "    end\n",
    "    return\n",
    "end\n",
    "\n",
    "function ising2d(beta_values::Array{Float64, 1})\n",
    "    mean_magnetization = Float64[]\n",
    "    positive_ΔE::Array{Int8, 1} = get_positive_energies()\n",
    "    for beta in beta_values\n",
    "        start = time()\n",
    "        println(\"β = \", beta)\n",
    "        state = -ones(Int8, (length, length))\n",
    "        acceptance_probabilities::Array{Float64, 1} = get_acceptance_probabilities(beta, positive_ΔE)\n",
    "        magnetisation = sum(state)/spins  # Calculate the value of the magnetisation apart so that it is immutable.\n",
    "        magnetisation_values = Float64[magnetisation]\n",
    "        for _ in 1:configurations\n",
    "            mc_step!(state, positive_ΔE, acceptance_probabilities)\n",
    "            magnetisation = sum(state)/spins\n",
    "            push!(magnetisation_values, magnetisation)\n",
    "        end\n",
    "        mean_value = abs(mean(magnetisation_values))\n",
    "        push!(mean_magnetization, mean_value)\n",
    "\n",
    "        elapsed = time() - start\n",
    "        println(elapsed)\n",
    "    end\n",
    "    return mean_magnetization\n",
    "end"
   ]
  },
  {
   "cell_type": "code",
   "execution_count": null,
   "id": "8029e922",
   "metadata": {
    "scrolled": false
   },
   "outputs": [
    {
     "name": "stdout",
     "output_type": "stream",
     "text": [
      "β = 0.0\n",
      "13.487766981124878\n",
      "β = 0.01\n",
      "13.674370050430298\n",
      "β = 0.02\n",
      "14.160507917404175\n",
      "β = 0.03\n",
      "14.367439031600952\n",
      "β = 0.04\n",
      "14.760193109512329\n",
      "β = 0.05\n",
      "15.157272100448608\n",
      "β = 0.06\n",
      "15.379553079605103\n",
      "β = 0.07\n",
      "15.768898010253906\n",
      "β = 0.08\n",
      "15.93838095664978\n",
      "β = 0.09\n",
      "16.215439081192017\n",
      "β = 0.1\n",
      "16.493194818496704\n",
      "β = 0.11\n",
      "16.748537063598633\n",
      "β = 0.12\n",
      "17.017290115356445\n",
      "β = 0.13\n",
      "17.334167003631592\n",
      "β = 0.14\n",
      "17.6227970123291\n",
      "β = 0.15\n",
      "17.87809681892395\n",
      "β = 0.16\n",
      "18.272588968276978\n",
      "β = 0.17\n"
     ]
    }
   ],
   "source": [
    "mean_magnetization = ising2d(beta_values)\n",
    "\n",
    "plot(beta_values, mean_magnetization)"
   ]
  },
  {
   "cell_type": "code",
   "execution_count": null,
   "id": "395cd738",
   "metadata": {},
   "outputs": [],
   "source": [
    "beta_values = Float64[i/temperatures for i in 0:temperatures]\n",
    "typeof(beta_values)"
   ]
  }
 ],
 "metadata": {
  "kernelspec": {
   "display_name": "Julia 1.8.1",
   "language": "julia",
   "name": "julia-1.8"
  },
  "language_info": {
   "file_extension": ".jl",
   "mimetype": "application/julia",
   "name": "julia",
   "version": "1.8.1"
  }
 },
 "nbformat": 4,
 "nbformat_minor": 5
}
