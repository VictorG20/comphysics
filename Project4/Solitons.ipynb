{
 "cells": [
  {
   "cell_type": "markdown",
   "id": "3559a828",
   "metadata": {},
   "source": [
    "# Solitons\n",
    "\n",
    "## Algorithm\n",
    "\n",
    "1. Set parameters of the equation: $\\epsilon$, $\\mu$.\n",
    "1. Set $\\Delta x$, $\\Delta t$, $N_{x}$ and $N_{t}$, where $N_{x}$ and $N_{t}$ are the number of steps in space and time, respectively. If a spatial length $L$ is given, then the number of points in space are $N_{x} = \\text{trunc}(L/\\Delta x) + 1$ so we start from $x = 0$ up to $x = L$.\n",
    "1. Since we are fixing the boundaries, the first and last point have fixed values $u_{0}^{n}$, $u_{N_{x}}^{n}$ and must be ignored from evolving them. This means that we may save memory by evolving only the inner spatial points. Thus, we create a 2-dimensional array which has one of its lengths as $N_{x} - 1$.\n",
    "1. Insert some initial profile for which we have $u_{j}^{1}$ for all $j$.\n",
    "1. For the first time step we obtain $u_{j}^{2}$ for all $1 \\leq j \\leq N_{x}-1$ as  \n",
    "    1. Update the array spatial boundaries using\n",
    "        \\begin{align}\n",
    "            u_{1}^{2} & = u_{1}^{1} - \\frac{\\epsilon}{6}\\frac{\\Delta t}{\\Delta x}[u_{2}^{1} + u_{1}^{1} + u_{0}^{1}][u_{2}^{1} - u_{0}^{1}] - \\frac{\\mu}{2}\\frac{\\Delta t}{\\Delta x^{3}}[u_{3}^{1} - 2 u_{2}^{1} + u_{0}^{1}] \\\\\n",
    "            u_{N_{x}-1}^{2} & = u_{N_{x}-1}^{1} - \\frac{\\epsilon}{6}\\frac{\\Delta t}{\\Delta x}[u_{N_{x}}^{1} + u_{N_{x}-1}^{1} + u_{N_{x}-2}^{1}][u_{N_{x}}^{1} - u_{N_{x}-2}^{1}] - \\frac{\\mu}{2}\\frac{\\Delta t}{\\Delta x^{3}}[-u_{N_{x}}^{1} + 2 u_{N_{x}-2}^{1} - u_{N_{x}-3}^{1}]\n",
    "        \\end{align}\n",
    "    1. Update the rest of the points according to \n",
    "         \\begin{equation}\n",
    "             u_{j}^{2} = u_{j}^{1} - \\frac{\\epsilon}{6} \\frac{\\Delta t}{\\Delta x} \\left[ u_{j+1}^{1} + u_{j}^{1} + u_{j-1}^{1} \\right] \\left[u_{j+1}^{1} - u_{j-1}^{1}\\right] - \\frac\\mu2 \\frac{\\Delta t}{\\Delta x^3} \\left[ u_{j+2}^{1} + 2u_{j-1}^{1} - 2u_{j+1}^{1} - u_{j-2}^{1} \\right]\n",
    "         \\end{equation}\n",
    "1. For the remaining steps. Update according to:\n",
    "    1. First change the array spatial boundaries with\n",
    "        \\begin{align}\n",
    "            u^{n+1}_{1} & = u^{n-1}_{1} - \\frac{\\epsilon}{3} \\frac{\\Delta t}{\\Delta x} \\left[ u_{2}^{n} + u_{1}^{n} + u_{0}^{n} \\right]\\left[u_{2}^{n} - u_{0}^{n}\\right] - \\mu \\frac{\\Delta t}{\\Delta x^3} \\left[ u_{3}^{n} + u_{0}^{n} - 2u_{2}^{n} \\right] \\\\\n",
    "            u^{n+1}_{N_{x}-1} & = u^{n-1}_{N_{x}-1} - \\frac{\\epsilon}{3} \\frac{\\Delta t}{\\Delta x} \\left[ u_{N_{x}}^{n} + u_{N_{x}-1}^{n} + u_{N_{x}-2}^{n} \\right]\\left[u_{N_{x}}^{n} - u_{N_{x}-2}^{n}\\right] - \\mu \\frac{\\Delta t}{\\Delta x^3} \\left[2u_{N_{x}-2}^{n} - u_{N_{x}}^{n} - u_{N_{x}-3}^{n} \\right]\n",
    "        \\end{align}\n",
    "    1. Then change the rest of the points with:\n",
    "        \\begin{equation}\n",
    "            u^{n+1}_j = u^{n-1}_j - \\frac{\\epsilon}{3} \\frac{\\Delta t}{\\Delta x} \\left[ u_{j+1}^{n} + u_{j}^{n} + u_{j-1}^{n} \\right]\\left[u_{j+1}^{n} - u_{j-1}^{n}\\right] - \\mu \\frac{\\Delta t}{\\Delta x^3} \\left[ u_{j+2}^{n} + 2u_{j-1}^{n} - 2u_{j+1}^{n} - u_{j-2}^{n} \\right]\n",
    "        \\end{equation}\n",
    "        \n",
    "        \n",
    "Since at each time step after the first we require the two previous profiles in time and we don't want/need the profile at each step, we opt for saving a 2-dimensional array with time length equal to $3$"
   ]
  },
  {
   "cell_type": "markdown",
   "id": "d6e8b293",
   "metadata": {},
   "source": [
    "## Functions"
   ]
  },
  {
   "cell_type": "code",
   "execution_count": 1,
   "id": "0b289227",
   "metadata": {},
   "outputs": [],
   "source": [
    "using Plots\n",
    "\n",
    "function kdev(initial_u::Function, Δx::Float64, Δt::Float64, nx::Int, nt::Int, ϵ::Float64, μ::Float64, smpl)\n",
    "    u = zeros(nx-1,3)\n",
    "    u[:,1] = [initial_u(x) for x in range(Δx, step=Δx, length=nx-1)]\n",
    "    u0 = initial_u(0)\n",
    "    un = initial_u(nx*Δx)\n",
    "    \n",
    "    samples = trunc(Int, nt/smpl) + 1\n",
    "    \n",
    "    u_samples = zeros(nx-1, samples)\n",
    "        \n",
    "    if mod(nt, smpl) == 0\n",
    "        j = samples - (nt÷smpl)\n",
    "        u_samples[:,j] = u[:,1]\n",
    "    end\n",
    "    \n",
    "    a = ϵ*Δt/(3*Δx)\n",
    "    b = μ*Δt/(Δx^3)\n",
    "    \n",
    "    # First step\n",
    "    \n",
    "    u[1,2] = u[1,1] - (a/2)*(u[2,1]+u[1,1]+u0)*(u[2,1]-u0) - (b/2)*(u[3,1]-2*u[2,1]+u0)\n",
    "    u[2,2] = u[2,1] - (a/2)*(u[3,1]+u[2,1]+u[1,1])*(u[3,1]-u[1,1]) - (b/2)*(u[4,1]-2*u[3,1]+2*u[1,1]-u0)\n",
    "    u[end-1,2] = (u[end-1,1] - (a/2)*(u[end,1]+u[end-1,1]+u[end-2,1])*(u[end,1]-u[end-2,1]) \n",
    "                    - (b/2)*(un-2*u[end,1]+2*u[end-2,1]-u[end-3,1]))\n",
    "    u[end,2] = u[end,1] - (a/2)*(un+u[end,1]+u[end-1,1])*(un-u[end-1,1])- (b/2)*(-un+2*u[end-1,1]-u[end-2,1])\n",
    "        \n",
    "    for i in range(3, nx-3)\n",
    "        u[i,2] = (u[i,1] - (a/2)*(u[i+1,1]+u[i,1]+u[i-1,1])*(u[i+1,1]-u[i-1,1]) \n",
    "                    - (b/2)*(u[i+2,1]-2*u[i+1,1]+2*u[i-1,1]-u[i-2,1]))\n",
    "    end\n",
    "    \n",
    "    if mod(nt-1, smpl) == 0\n",
    "        j = samples - ((nt-1)÷smpl)\n",
    "        u_samples[:,j] = u[:,2]\n",
    "    end\n",
    "    \n",
    "    # Every other step\n",
    "    \n",
    "    for k in range(1, nt-1)\n",
    "        n = mod1(k,3)\n",
    "        n1 = mod1(k+1,3)\n",
    "        n2 = mod1(k+2,3)\n",
    "        \n",
    "        u[1,n2] = u[1,n] - a*(u[2,n1]+u[1,n1]+u0)*(u[2,n1]-u0)-b*(u[3,n1]-2*u[2,n1]+u0)\n",
    "        u[2,n2] = u[2,n] - a*(u[3,n1]+u[2,n1]+u[1,n1])*(u[3,n1]-u[1,n1]) - b*(u[4,n1]-2*u[3,n1]+2*u[1,n1]-u0)\n",
    "        u[end-1,n2] = (u[end-1,n] - a*(u[end,n1]+u[end-1,n1]+u[end-2,n1])*(u[end,n1]-u[end-2,n1]) \n",
    "                        - b*(un+2*u[end-2,n1]-2*u[end,n1]-u[end-3,n1])\n",
    "                       )\n",
    "        u[end,n2] = u[end,n] - a*(un+u[end,n1]+u[end-1,n1])*(un-u[end-1,n1])- b*(2*u[end-1,n1]-un-u[end-2,n1])\n",
    "                    \n",
    "        for i in range(3, nx-3)\n",
    "            u[i,n2] = (u[i,n] - a*(u[i+1,n1]+u[i,n1]+u[i-1,n1])*(u[i+1,n1]-u[i-1,n1]) \n",
    "                        - b*(u[i+2,n1]+2*u[i-1,n1]-2*u[i+1,n1]-u[i-2,n1]))\n",
    "        end\n",
    "        \n",
    "        if mod(nt-(k+1),smpl) != 0\n",
    "            continue\n",
    "        end\n",
    "        \n",
    "        j = samples - ((nt-(k+1))÷smpl)\n",
    "        u_samples[:,j] = u[:,n2]\n",
    "    end\n",
    "    \n",
    "    return u_samples\n",
    "end\n",
    "\n",
    "\n",
    "# Make the animation\n",
    "@userplot SolitonPlot\n",
    "@recipe function s(sol::SolitonPlot)\n",
    "    times, x, u, i, my_ylims = sol.args\n",
    "    t = round(Int, times[i])\n",
    "    label --> false\n",
    "    title --> \"\\$ t=$t \\$\"\n",
    "    xlabel --> \"\\$ x \\$\"\n",
    "    ylabel --> \"\\$ u(x,t) \\$\"\n",
    "    ylims --> my_ylims\n",
    "    labelfontsize --> 13\n",
    "    linewidth --> 2.\n",
    "    color --> :blue\n",
    "    background_color --> :black\n",
    "    dpi --> 300\n",
    "    x, u[:,i]\n",
    "end"
   ]
  },
  {
   "cell_type": "markdown",
   "id": "7e8dd329",
   "metadata": {},
   "source": [
    "# Part b)\n",
    "## Simple surface plot of u(x,t) at the sampled times"
   ]
  },
  {
   "cell_type": "code",
   "execution_count": null,
   "id": "fb3ea67e",
   "metadata": {},
   "outputs": [],
   "source": [
    "initial_u(x) = 0.5*(1-tanh((x-25)/5))\n",
    "Δx = 0.4\n",
    "Δt = 0.1\n",
    "nx = 130\n",
    "nt = 2000\n",
    "ϵ = 0.2\n",
    "μ = 0.1\n",
    "smpl = 1\n",
    "\n",
    "x = range(Δx, step=Δx, length=nx-1)\n",
    "t_values = [steps*Δt for steps in range(0, step=1, length=nt+1) if mod(nt-steps,smpl) == 0]\n",
    "u_profiles = kdev(initial_u, Δx, Δt, nx, nt, ϵ, μ, smpl);"
   ]
  },
  {
   "cell_type": "code",
   "execution_count": null,
   "id": "dc43599c",
   "metadata": {},
   "outputs": [],
   "source": [
    "n=size(u_profiles)[2]\n",
    "max_magnitudes = [maximum(abs.(u_profiles[:,i])) for i ∈ 1:n]\n",
    "stability = (Δt/Δx)*(ϵ*max_magnitudes .+ (4*μ/(Δx^2)))\n",
    "\n",
    "stability_plot = plot(t_values, stability, xlabel=\"\\$ t \\$\", legendfontsize=14, lw=1.6, dpi=500, legend=:bottomright,\n",
    "     label=\"\\$ \\\\frac{\\\\Delta t}{\\\\Delta x}\\\\left(\\\\epsilon | u | + 4\\\\frac{\\\\mu}{(\\\\Delta x)^{2}} \\\\right) \\$\")\n",
    "# savefig(stability_plot, \"stability_plot.png\")"
   ]
  },
  {
   "cell_type": "code",
   "execution_count": null,
   "id": "d8c54cad",
   "metadata": {},
   "outputs": [],
   "source": [
    "plot_part_b = surface(x, t_values, u_profiles', xlabel=\"\\$ x \\$\", ylabel=\"\\$ t \\$\", zlabel=\"\\$ u(x,t) \\$\", \n",
    "    camera=(35,55), c = :blues, colorbar=:false, dpi=500, background_color= RGB(225/255,193/255,177/255))\n",
    "# savefig(plot_part_b, \"solitons_b_sand.png\")"
   ]
  },
  {
   "cell_type": "markdown",
   "id": "adeabc0b",
   "metadata": {},
   "source": [
    "## 2-dimensional plots of part b)"
   ]
  },
  {
   "cell_type": "code",
   "execution_count": null,
   "id": "93ab3567",
   "metadata": {},
   "outputs": [],
   "source": [
    "colors = [\"gray\", \"blue\", \"magenta\", \"red\", \"indigo\", \"hotpink\"]\n",
    "\n",
    "u_plot1 = plot(xlabel=\"\\$ x \\$\", legend=:bottomleft, ylabel=\"\\$ u(x, t) \\$\")\n",
    "\n",
    "my_width = [1.3 + i*0.05 for i in range(1, 6)]\n",
    "\n",
    "alpha_values = [0.4 + 0.2*i for i in range(1, 6)]\n",
    "\n",
    "for (i, j) in enumerate([1, 3, 5, 7, 9])\n",
    "    time = round(Int, t_values[j])\n",
    "    plot!(x, u_profiles[:,j], label=\"\\$ t = $time \\$\", color=colors[i], alpha=alpha_values[i], \n",
    "        linewidth=my_width[i], dpi=500)\n",
    "end\n",
    "\n",
    "u_plot1\n",
    "# savefig(u_plot1, \"solitons_b_2d.png\")"
   ]
  },
  {
   "cell_type": "markdown",
   "id": "265ec10c",
   "metadata": {},
   "source": [
    "## Gif for part b)\n",
    "\n",
    "### First generate the data"
   ]
  },
  {
   "cell_type": "code",
   "execution_count": 2,
   "id": "4c194444",
   "metadata": {},
   "outputs": [],
   "source": [
    "initial_u(x) = 0.5*(1-tanh((x-25)/5))\n",
    "Δx = 0.4\n",
    "Δt = 0.1\n",
    "nx = 130\n",
    "nt = 2000\n",
    "ϵ = 0.2\n",
    "μ = 0.1\n",
    "smpl = 8\n",
    "\n",
    "x = range(Δx, step=Δx, length=nx-1)\n",
    "t_values = [steps*Δt for steps in range(0, step=1, length=nt+1) if mod(nt-steps,smpl) == 0]\n",
    "u_profiles = kdev(initial_u, Δx, Δt, nx, nt, ϵ, μ, smpl);"
   ]
  },
  {
   "cell_type": "markdown",
   "id": "35ccadc9",
   "metadata": {},
   "source": [
    "### Then make the animation"
   ]
  },
  {
   "cell_type": "code",
   "execution_count": null,
   "id": "881425ea",
   "metadata": {},
   "outputs": [],
   "source": [
    "n=size(u_profiles)[2]\n",
    "ymax = maximum(u_profiles)\n",
    "ylims = (0, ymax)\n",
    "\n",
    "anim = @animate for i ∈ 1:n\n",
    "    solitonplot(t_values, x, u_profiles, i, ylims)\n",
    "end\n",
    "\n",
    "anim\n",
    "gif(anim, \"soliton_b_50.gif\", fps = 50)"
   ]
  },
  {
   "cell_type": "markdown",
   "id": "c59786f3",
   "metadata": {},
   "source": [
    "# Part c)\n",
    "\n",
    "## Trying to adjust the sum of solitons with the initial positions and amplitudes as specified"
   ]
  },
  {
   "cell_type": "code",
   "execution_count": 38,
   "id": "1afcb8c3",
   "metadata": {},
   "outputs": [],
   "source": [
    "Δx = 0.4\n",
    "Δt = 0.1\n",
    "nx = 130\n",
    "nt = 5500\n",
    "ϵ = 0.2\n",
    "μ = 0.1\n",
    "smpl = 10\n",
    "\n",
    "# First soliton\n",
    "x1_0 = 12.  # Initial position of the peak of the soliton\n",
    "c1 = 4/75\n",
    "soliton1(x) = (3*c1/ϵ)*(sech(0.5*sqrt(c1/μ)*(x-x1_0)))^2.\n",
    "\n",
    "# Second soliton\n",
    "x2_0 = 26.  # Initial position of the peak of the soliton\n",
    "c2 = 3/150\n",
    "soliton2(x) = (3*c2/ϵ)*(sech(0.5*sqrt(c2/μ)*(x-x2_0)))^2.\n",
    "\n",
    "# Initial u(x,t) is a sum of two solitons\n",
    "initial_u(x) = soliton1(x) + soliton2(x)\n",
    "\n",
    "x = range(Δx, step=Δx, length=nx-1)\n",
    "t_values = [steps*Δt for steps in range(0, step=1, length=nt+1) if mod(nt-steps,smpl) == 0]\n",
    "u_profiles = kdev(initial_u, Δx, Δt, nx, nt, ϵ, μ, smpl);"
   ]
  },
  {
   "cell_type": "markdown",
   "id": "4bf7ca2d",
   "metadata": {},
   "source": [
    "### Plot of the initial and final configurations u(x,t)"
   ]
  },
  {
   "cell_type": "code",
   "execution_count": 34,
   "id": "b1fdb05a",
   "metadata": {},
   "outputs": [],
   "source": [
    "t0 = round(Int, t_values[1])\n",
    "tf = round(Int, t_values[end])\n",
    "ymax = maximum(u_profiles)\n",
    "my_ylims = (0, ymax)\n",
    "\n",
    "solitons_c = plot(x, u_profiles[:,1], label = \"\\$ t=$t0 \\$\", xlabel=\"\\$ x \\$\", ylabel=\"\\$ u(x,t) \\$\", labelfontsize=13, \n",
    "    legendfontsize=13, ylims=my_ylims, linewidth=2, background_color=:black, color=:blue, dpi=300, \n",
    "    legend=:top)\n",
    "plot!(x, u_profiles[:,end], label = \"\\$ t=$tf \\$\", color=:red, linewidth=2)\n",
    "# savefig(solitons_c, \"solitons_c.png\")"
   ]
  },
  {
   "cell_type": "markdown",
   "id": "4d126d3e",
   "metadata": {},
   "source": [
    "### Gif"
   ]
  },
  {
   "cell_type": "code",
   "execution_count": null,
   "id": "90c90150",
   "metadata": {},
   "outputs": [],
   "source": [
    "n=size(u_profiles)[2]\n",
    "ymax = maximum(u_profiles)\n",
    "ylims = (0, ymax)\n",
    "\n",
    "anim = @animate for i ∈ 1:n\n",
    "    solitonplot(t_values, x, u_profiles, i, ylims)\n",
    "end\n",
    "anim\n",
    "# gif(anim, \"solitons_c_50.gif\", fps = 50)"
   ]
  },
  {
   "cell_type": "code",
   "execution_count": 48,
   "id": "47037a56",
   "metadata": {},
   "outputs": [],
   "source": [
    "n=size(u_profiles)[2]\n",
    "max_magnitudes = [maximum(abs.(u_profiles[:,i])) for i ∈ 1:n]\n",
    "stability = (Δt/Δx)*(ϵ*max_magnitudes .+ (4*μ/(Δx^2)))\n",
    "\n",
    "stability_plot = plot(t_values, stability, xlabel=\"\\$ t \\$\", legendfontsize=9, lw=1.6, dpi=500, \n",
    "                      legend=:bottomright,\n",
    "label=\"\\$ \\\\frac{\\\\Delta t}{\\\\Delta x}\\\\left(\\\\epsilon |u(x,t)| + 4\\\\frac{\\\\mu}{(\\\\Delta x)^{2}} \\\\right) \\$\")\n",
    "savefig(stability_plot, \"stability_plot_c.png\")"
   ]
  },
  {
   "cell_type": "markdown",
   "id": "fcf36843",
   "metadata": {},
   "source": [
    "## My own parameters"
   ]
  },
  {
   "cell_type": "code",
   "execution_count": null,
   "id": "b67676df",
   "metadata": {},
   "outputs": [],
   "source": [
    "Δx = 0.4\n",
    "Δt = 0.1\n",
    "nx = 130\n",
    "nt = 2000\n",
    "ϵ = 0.2\n",
    "μ = 0.1\n",
    "smpl = 8\n",
    "\n",
    "# First soliton\n",
    "x1_0 = 12.  # Initial position of the peak of the soliton\n",
    "x1_final = 47.  # Final position at which we want to observe the soliton\n",
    "c1 = (x1_final - x1_0)/(nt*Δt)\n",
    "soliton1(x) = (3*c1/ϵ)*(sech(0.5*sqrt(c1/μ)*(x-x1_0)))^2.\n",
    "\n",
    "# Second soliton\n",
    "x2_0 = 26.  # Initial position of the peak of the soliton\n",
    "x2_final = 35.  # Final position at which we want to observe the soliton\n",
    "c2 = (x2_final - x2_0)/(nt*Δt)\n",
    "soliton2(x) = (3*c2/ϵ)*(sech(0.5*sqrt(c2/μ)*(x-x2_0)))^2.\n",
    "\n",
    "# Initial u(x,t) is a sum of two solitons\n",
    "initial_u(x) = soliton1(x) + soliton2(x)\n",
    "\n",
    "x = range(Δx, step=Δx, length=nx-1)\n",
    "t_values = [steps*Δt for steps in range(0, step=1, length=nt+1) if mod(nt-steps,smpl) == 0]\n",
    "u_profiles = kdev(initial_u, Δx, Δt, nx, nt, ϵ, μ, smpl);"
   ]
  },
  {
   "cell_type": "code",
   "execution_count": null,
   "id": "320ccb71",
   "metadata": {},
   "outputs": [],
   "source": [
    "n=size(u_profiles)[2]\n",
    "ymax = maximum(u_profiles)\n",
    "ylims = (0, ymax)\n",
    "\n",
    "anim = @animate for i ∈ 1:n\n",
    "    solitonplot(t_values, x, u_profiles, i, ylims)\n",
    "end\n",
    "anim\n",
    "# gif(anim, \"soliton2_c_50.gif\", fps = 50)"
   ]
  }
 ],
 "metadata": {
  "kernelspec": {
   "display_name": "Julia 1.8.1",
   "language": "julia",
   "name": "julia-1.8"
  },
  "language_info": {
   "file_extension": ".jl",
   "mimetype": "application/julia",
   "name": "julia",
   "version": "1.8.1"
  }
 },
 "nbformat": 4,
 "nbformat_minor": 5
}
